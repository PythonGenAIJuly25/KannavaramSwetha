{
  "nbformat": 4,
  "nbformat_minor": 0,
  "metadata": {
    "colab": {
      "provenance": []
    },
    "kernelspec": {
      "name": "python3",
      "display_name": "Python 3"
    },
    "language_info": {
      "name": "python"
    }
  },
  "cells": [
    {
      "cell_type": "markdown",
      "metadata": {
        "id": "COu_Cz27Y4Va"
      },
      "source": [
        "# Module 3: Data Structures Assignments\n"
      ]
    },
    {
      "cell_type": "markdown",
      "source": [
        "Assignment 1: Creating and Accessing Lists\n",
        "Create a list of the first 20 positive integers. Print the list."
      ],
      "metadata": {
        "id": "wWfKPeAD-NYH"
      }
    },
    {
      "cell_type": "code",
      "execution_count": null,
      "metadata": {
        "colab": {
          "base_uri": "https://localhost:8080/"
        },
        "id": "z3Z-atdXd9Xq",
        "outputId": "1449cbc4-92fb-4031-a278-f796e20c596f"
      },
      "outputs": [
        {
          "output_type": "stream",
          "name": "stdout",
          "text": [
            "[1, 2, 3, 4, 5, 6, 7, 8, 9, 10, 11, 12, 13, 14, 15, 16, 17, 18, 19, 20]\n"
          ]
        }
      ],
      "source": [
        "l=[]\n",
        "for i in range(1,21):\n",
        "  l.append(i)\n",
        "print(l)"
      ]
    },
    {
      "cell_type": "markdown",
      "source": [
        "Assignment 2: Accessing List Elements\n",
        "Print the first, middle, and last elements of the list created in Assignment 1."
      ],
      "metadata": {
        "id": "lsmmjJHo-J8n"
      }
    },
    {
      "cell_type": "code",
      "source": [
        "print(l[0])\n",
        "print(l[-1])\n",
        "print(l[len(l)//2])"
      ],
      "metadata": {
        "colab": {
          "base_uri": "https://localhost:8080/"
        },
        "id": "iqGgLb8ReV7K",
        "outputId": "44891118-7214-4cf4-e6f0-cdada8d7c3d9"
      },
      "execution_count": null,
      "outputs": [
        {
          "output_type": "stream",
          "name": "stdout",
          "text": [
            "1\n",
            "20\n",
            "11\n"
          ]
        }
      ]
    },
    {
      "cell_type": "markdown",
      "source": [
        "Assignment 3: List Slicing\n",
        "Print the first five elements, the last five elements, and the elements from index 5 to 15 of the list created in Assignment 1."
      ],
      "metadata": {
        "id": "qTUC1lee91t3"
      }
    },
    {
      "cell_type": "code",
      "source": [
        "print(l[0:5])\n",
        "print(l[4:15])"
      ],
      "metadata": {
        "colab": {
          "base_uri": "https://localhost:8080/"
        },
        "id": "wB2KHgsJeV-A",
        "outputId": "f6d15de3-d241-459c-9a19-5f280bb6557b"
      },
      "execution_count": null,
      "outputs": [
        {
          "output_type": "stream",
          "name": "stdout",
          "text": [
            "[1, 2, 3, 4, 5]\n",
            "[5, 6, 7, 8, 9, 10, 11, 12, 13, 14, 15]\n"
          ]
        }
      ]
    },
    {
      "cell_type": "markdown",
      "source": [
        "Assignment 4: List Comprehensions\n",
        "Create a new list containing the squares of the first 10 positive integers using a list comprehension. Print the new list."
      ],
      "metadata": {
        "id": "mV1Y8tBr9-mS"
      }
    },
    {
      "cell_type": "code",
      "source": [
        "s=[i*i for i in range(1,11)]\n",
        "print(s)"
      ],
      "metadata": {
        "colab": {
          "base_uri": "https://localhost:8080/"
        },
        "id": "dd5bM43oeWAq",
        "outputId": "ca4258ca-87e6-4ae0-ea5b-ad48c5dae008"
      },
      "execution_count": null,
      "outputs": [
        {
          "output_type": "stream",
          "name": "stdout",
          "text": [
            "[1, 4, 9, 16, 25, 36, 49, 64, 81, 100]\n"
          ]
        }
      ]
    },
    {
      "cell_type": "markdown",
      "source": [
        "Assignment 5: Filtering Lists\n",
        "Create a new list containing only the even numbers from the list created in Assignment 1 using a list comprehension. Print the new list."
      ],
      "metadata": {
        "id": "4Iz7tDXX9xIR"
      }
    },
    {
      "cell_type": "code",
      "source": [
        "for i in range(len(l)):\n",
        "  if(l[i]%2==0):\n",
        "    print(l[i])"
      ],
      "metadata": {
        "colab": {
          "base_uri": "https://localhost:8080/"
        },
        "id": "KhSb047weWDW",
        "outputId": "572b461b-a18c-429f-d77f-71e1249f31d2"
      },
      "execution_count": null,
      "outputs": [
        {
          "output_type": "stream",
          "name": "stdout",
          "text": [
            "2\n",
            "4\n",
            "6\n",
            "8\n",
            "10\n",
            "12\n",
            "14\n",
            "16\n",
            "18\n",
            "20\n"
          ]
        }
      ]
    },
    {
      "cell_type": "markdown",
      "source": [
        "Assignment 6: List Methods\n",
        "Create a list of random numbers and sort it in ascending and descending order. Remove the duplicates from the list and print the modified list."
      ],
      "metadata": {
        "id": "0cOMVxra9r8w"
      }
    },
    {
      "cell_type": "code",
      "source": [
        "l=[3,4,1,2,5,5]\n",
        "l.sort()\n",
        "print(l)\n",
        "l.sort(reverse=True)\n",
        "print(l)\n",
        "print(list(set(l)))"
      ],
      "metadata": {
        "colab": {
          "base_uri": "https://localhost:8080/"
        },
        "id": "QIBgBLd6eWGX",
        "outputId": "41ae99e8-a9f3-40b0-b2ce-312b7fe86b6c"
      },
      "execution_count": 6,
      "outputs": [
        {
          "output_type": "stream",
          "name": "stdout",
          "text": [
            "[1, 2, 3, 4, 5, 5]\n",
            "[5, 5, 4, 3, 2, 1]\n",
            "[1, 2, 3, 4, 5]\n"
          ]
        }
      ]
    },
    {
      "cell_type": "markdown",
      "source": [
        "Assignment 7: Nested Lists\n",
        "Create a nested list representing a 3x3 matrix and print the matrix. Access and print the element at the second row and third column."
      ],
      "metadata": {
        "id": "mlivMj2j-o2s"
      }
    },
    {
      "cell_type": "code",
      "source": [
        "m = [[1, 2, 3],[4, 5, 6],[7, 8, 9]]\n",
        "\n",
        "print(m)\n",
        "for row in m:\n",
        "    print(row)\n",
        "\n",
        "p= m[1][2]\n",
        "print(p)\n"
      ],
      "metadata": {
        "id": "suMcTAHAeWJB",
        "colab": {
          "base_uri": "https://localhost:8080/"
        },
        "outputId": "7355ff50-ae20-4f69-cd54-729d64cd5dd5"
      },
      "execution_count": 7,
      "outputs": [
        {
          "output_type": "stream",
          "name": "stdout",
          "text": [
            "[[1, 2, 3], [4, 5, 6], [7, 8, 9]]\n",
            "[1, 2, 3]\n",
            "[4, 5, 6]\n",
            "[7, 8, 9]\n",
            "6\n"
          ]
        }
      ]
    },
    {
      "cell_type": "markdown",
      "source": [
        "Assignment 8: List of Dictionaries\n",
        "Create a list of dictionaries where each dictionary represents a student with keys 'name' and 'score'. Sort the list of dictionaries by the 'score' in descending order and print the sorted list."
      ],
      "metadata": {
        "id": "t3oJ1sel_Je9"
      }
    },
    {
      "cell_type": "code",
      "source": [
        "students = [\n",
        "    {'name': 'Alice', 'score': 85},\n",
        "    {'name': 'Bob', 'score': 92}\n",
        "]\n",
        "sorted_students = sorted(students, key=lambda x: x['score'], reverse=True)\n",
        "print(\"Sorted list by score (descending):\")\n",
        "for student in sorted_students:\n",
        "    print(student)\n"
      ],
      "metadata": {
        "colab": {
          "base_uri": "https://localhost:8080/"
        },
        "id": "iPE7naqH_JxP",
        "outputId": "e4b8b33b-6bfa-45a7-efc2-7e6d9ec9aff5"
      },
      "execution_count": 8,
      "outputs": [
        {
          "output_type": "stream",
          "name": "stdout",
          "text": [
            "Sorted list by score (descending):\n",
            "{'name': 'Bob', 'score': 92}\n",
            "{'name': 'Alice', 'score': 85}\n"
          ]
        }
      ]
    },
    {
      "cell_type": "markdown",
      "source": [
        "Assignment 9: Matrix Transposition\n",
        "Write a function that takes a 3x3 matrix (nested list) as input and returns its transpose. Print the original and transposed matrices."
      ],
      "metadata": {
        "id": "D-nVsp_F_J_l"
      }
    },
    {
      "cell_type": "code",
      "source": [
        "def transpose_matrix(matrix):\n",
        "    return [[matrix[j][i] for j in range(3)] for i in range(3)]\n",
        "matrix = [[1, 2, 3],[4, 5, 6],[7, 8, 9]]\n",
        "print(\"Original matrix:\")\n",
        "for row in matrix:\n",
        "    print(row)\n",
        "transposed = transpose_matrix(matrix)\n",
        "print(\"Transposed matrix:\")\n",
        "for row in transposed:\n",
        "    print(row)\n"
      ],
      "metadata": {
        "colab": {
          "base_uri": "https://localhost:8080/"
        },
        "id": "a_3pp5u4_KIa",
        "outputId": "dc27480d-42ef-4cfd-a3ba-bc2d59e4a640"
      },
      "execution_count": 9,
      "outputs": [
        {
          "output_type": "stream",
          "name": "stdout",
          "text": [
            "Original matrix:\n",
            "[1, 2, 3]\n",
            "[4, 5, 6]\n",
            "[7, 8, 9]\n",
            "Transposed matrix:\n",
            "[1, 4, 7]\n",
            "[2, 5, 8]\n",
            "[3, 6, 9]\n"
          ]
        }
      ]
    },
    {
      "cell_type": "markdown",
      "source": [
        "Assignment 10: Flattening a Nested List\n",
        "Write a function that takes a nested list and flattens it into a single list. Print the original and flattened lists."
      ],
      "metadata": {
        "id": "czAXO4if_KTG"
      }
    },
    {
      "cell_type": "code",
      "source": [
        "def flatten_list(nested_list):\n",
        "    return [item for sublist in nested_list for item in sublist]\n",
        "n = [[1, 2], [3, 4], [5, 6]]\n",
        "print(n)\n",
        "f = flatten_list(n)\n",
        "print(f)\n"
      ],
      "metadata": {
        "colab": {
          "base_uri": "https://localhost:8080/"
        },
        "id": "3FUObYna_Kfp",
        "outputId": "c252a95b-305b-4c09-a557-05567373c5e0"
      },
      "execution_count": 11,
      "outputs": [
        {
          "output_type": "stream",
          "name": "stdout",
          "text": [
            "[[1, 2], [3, 4], [5, 6]]\n",
            "[1, 2, 3, 4, 5, 6]\n"
          ]
        }
      ]
    },
    {
      "cell_type": "markdown",
      "source": [
        "Assignment 11: List Manipulation\n",
        "Create a list of the first 10 positive integers. Remove the elements at indices 2, 4, and 6, and insert the element '99' at index 5. Print the modified list."
      ],
      "metadata": {
        "id": "PdtgTtSXEuuW"
      }
    },
    {
      "cell_type": "code",
      "source": [
        "l = list(range(1, 11))\n",
        "\n",
        "del l[6]\n",
        "del l[4]\n",
        "del l[2]\n",
        "l.insert(5, 99)\n",
        "print(l)"
      ],
      "metadata": {
        "colab": {
          "base_uri": "https://localhost:8080/"
        },
        "id": "C2ks2hTRExaG",
        "outputId": "ece79b08-c98c-4a8d-99c9-ab649cc16f57"
      },
      "execution_count": 13,
      "outputs": [
        {
          "output_type": "stream",
          "name": "stdout",
          "text": [
            "[1, 2, 4, 6, 8, 99, 9, 10]\n"
          ]
        }
      ]
    },
    {
      "cell_type": "markdown",
      "source": [
        "Assignment 12: List Zipping\n",
        "Create two lists of the same length. Use the zip function to combine these lists into a list of tuples and print the result"
      ],
      "metadata": {
        "id": "15uFLHzzEvoB"
      }
    },
    {
      "cell_type": "code",
      "source": [
        "list1 = ['apple', 'banana', 'cherry']\n",
        "list2 = [10, 20, 30]\n",
        "zipped_list = list(zip(list1, list2))\n",
        "print(\"Zipped list:\", zipped_list)\n"
      ],
      "metadata": {
        "colab": {
          "base_uri": "https://localhost:8080/"
        },
        "id": "50YCTpT4IU9-",
        "outputId": "127fca2a-47c1-4734-92b9-e9e8a8bf1bea"
      },
      "execution_count": 33,
      "outputs": [
        {
          "output_type": "stream",
          "name": "stdout",
          "text": [
            "Zipped list: [('apple', 10), ('banana', 20), ('cherry', 30)]\n"
          ]
        }
      ]
    },
    {
      "cell_type": "markdown",
      "source": [
        "Assignment 13: List Reversal\n",
        "Write a function that takes a list and returns a new list with the elements in reverse order. Print the original and reversed lists."
      ],
      "metadata": {
        "id": "Ymf3JnoCFH69"
      }
    },
    {
      "cell_type": "code",
      "source": [
        "def reverse_list(lst):\n",
        "    return lst[::-1]\n",
        "original_list = [1, 2, 3, 4, 5]\n",
        "reversed_list = reverse_list(original_list)\n",
        "print(\"Original list:\", original_list)\n",
        "print(\"Reversed list:\", reversed_list)\n"
      ],
      "metadata": {
        "colab": {
          "base_uri": "https://localhost:8080/"
        },
        "id": "AXZfbH6WEu4I",
        "outputId": "8597d6fb-f327-4c30-aea7-4f9fba69151d"
      },
      "execution_count": 27,
      "outputs": [
        {
          "output_type": "stream",
          "name": "stdout",
          "text": [
            "Original list: [1, 2, 3, 4, 5]\n",
            "Reversed list: [5, 4, 3, 2, 1]\n"
          ]
        }
      ]
    },
    {
      "cell_type": "markdown",
      "source": [
        "Assignment 14: List Rotation\n",
        "Write a function that rotates a list by n positions. Print the original and rotated lists."
      ],
      "metadata": {
        "id": "6tqHbVrMFIu9"
      }
    },
    {
      "cell_type": "code",
      "source": [
        "def rotate_list(lst, n):\n",
        "    n = n % len(lst)\n",
        "    return lst[n:] + lst[:n]\n",
        "original_list = [1, 2, 3, 4, 5]\n",
        "rotated_list = rotate_list(original_list, 2)\n",
        "print(\"Original list:\", original_list)\n",
        "print(\"Rotated list:\", rotated_list)"
      ],
      "metadata": {
        "colab": {
          "base_uri": "https://localhost:8080/"
        },
        "id": "914Rsh3mFJCq",
        "outputId": "29634a28-f461-48a3-aa0c-93645d24201d"
      },
      "execution_count": 28,
      "outputs": [
        {
          "output_type": "stream",
          "name": "stdout",
          "text": [
            "Original list: [1, 2, 3, 4, 5]\n",
            "Rotated list: [3, 4, 5, 1, 2]\n"
          ]
        }
      ]
    },
    {
      "cell_type": "markdown",
      "source": [
        "Assignment 15: List Intersection\n",
        "Write a function that takes two lists and returns a new list containing only the elements that are present in both lists. Print the intersected list."
      ],
      "metadata": {
        "id": "9zjwS5UsFKWZ"
      }
    },
    {
      "cell_type": "code",
      "source": [
        "def intersect_lists(list1, list2):\n",
        "    return [item for item in list1 if item in list2]\n",
        "\n",
        "list1 = [1, 2, 3, 4, 5]\n",
        "list2 = [4, 5, 6, 7, 8]\n",
        "\n",
        "intersection = intersect_lists(list1, list2)\n",
        "print(\"Intersected list:\", intersection)"
      ],
      "metadata": {
        "colab": {
          "base_uri": "https://localhost:8080/"
        },
        "id": "9G7esAiAFKhP",
        "outputId": "5f192fce-677f-4fa4-827e-60a8c4a816b2"
      },
      "execution_count": 29,
      "outputs": [
        {
          "output_type": "stream",
          "name": "stdout",
          "text": [
            "Intersected list: [4, 5]\n"
          ]
        }
      ]
    }
  ]
}