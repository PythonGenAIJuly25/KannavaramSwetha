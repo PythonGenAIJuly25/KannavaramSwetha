{
  "cells": [
    {
      "cell_type": "markdown",
      "metadata": {
        "id": "QlWDGurhcpC1"
      },
      "source": [
        "# Python Basics\n",
        "## Topics Covered:\n",
        "- Syntax and Semantics\n",
        "- Variables and Data Types\n",
        "- Basic Operators (Arithmetic, Comparison, Logical)\n"
      ]
    },
    {
      "cell_type": "markdown",
      "metadata": {
        "id": "3_gQQmXVcpC4"
      },
      "source": [
        "## 1. Syntax and Semantics\n",
        "\n",
        "**Question 1:** Write a Python program to print \"Hello, World!\"."
      ]
    },
    {
      "cell_type": "code",
      "execution_count": 5,
      "metadata": {
        "id": "YooJckX9cpC5",
        "outputId": "eb10efd2-5c65-4098-fa1b-55b9ae9af64e",
        "colab": {
          "base_uri": "https://localhost:8080/"
        }
      },
      "outputs": [
        {
          "output_type": "stream",
          "name": "stdout",
          "text": [
            "Hello, World!\n"
          ]
        }
      ],
      "source": [
        "# Your code here\n",
        "print(\"Hello, World!\")"
      ]
    },
    {
      "cell_type": "markdown",
      "metadata": {
        "id": "MwF1Up98cpC7"
      },
      "source": [
        "**Question 2:** Write a Python program that takes a user input and prints it."
      ]
    },
    {
      "cell_type": "code",
      "execution_count": 6,
      "metadata": {
        "id": "XcKyMitFcpC7",
        "outputId": "6700ab4e-1df9-48d8-80c6-5f109d538741",
        "colab": {
          "base_uri": "https://localhost:8080/"
        }
      },
      "outputs": [
        {
          "output_type": "stream",
          "name": "stdout",
          "text": [
            "give a number3\n",
            "3\n"
          ]
        }
      ],
      "source": [
        "# Your code here\n",
        "n=int(input(\"give a number\"))\n",
        "print(n)"
      ]
    },
    {
      "cell_type": "markdown",
      "metadata": {
        "id": "vriRBXP5cpC7"
      },
      "source": [
        "**Question 3:** Write a Python program to check if a number is positive, negative, or zero."
      ]
    },
    {
      "cell_type": "code",
      "execution_count": 7,
      "metadata": {
        "id": "5EHMwCuVcpC8",
        "outputId": "d67cc927-dd05-4022-f81b-ef097fc9253b",
        "colab": {
          "base_uri": "https://localhost:8080/"
        }
      },
      "outputs": [
        {
          "output_type": "stream",
          "name": "stdout",
          "text": [
            "number is positive\n"
          ]
        }
      ],
      "source": [
        "# Your code here\n",
        "n=1\n",
        "if n<0:\n",
        "  print(\"number is negative\")\n",
        "elif n==0:\n",
        "  print(\"number is zero\")\n",
        "else:\n",
        "  print(\"number is positive\")"
      ]
    },
    {
      "cell_type": "markdown",
      "metadata": {
        "id": "Ltoj74slcpC8"
      },
      "source": [
        "**Question 4:** Write a Python program to find the largest of three numbers."
      ]
    },
    {
      "cell_type": "code",
      "execution_count": 8,
      "metadata": {
        "id": "f0eezZdncpC8",
        "outputId": "da59eec8-f8b0-4e50-a108-f8e5e26fc794",
        "colab": {
          "base_uri": "https://localhost:8080/"
        }
      },
      "outputs": [
        {
          "output_type": "stream",
          "name": "stdout",
          "text": [
            "greatest number is : 3\n"
          ]
        }
      ],
      "source": [
        "# Your code here\n",
        "a=1\n",
        "b=2\n",
        "c=3\n",
        "if a>=b and a>=c:\n",
        "  print(\"greatest number is :\",a)\n",
        "elif b>=c and b>=a:\n",
        "  print(\"greatest number is :\",b)\n",
        "else:\n",
        "  print(\"greatest number is :\",c)\n"
      ]
    },
    {
      "cell_type": "markdown",
      "metadata": {
        "id": "cz-hScJTcpC9"
      },
      "source": [
        "**Question 5:** Write a Python program to calculate the factorial of a number."
      ]
    },
    {
      "cell_type": "code",
      "execution_count": 9,
      "metadata": {
        "id": "aaxTab04cpC9",
        "outputId": "b69d6bbc-04e4-4d7d-e732-83693ffc5af3",
        "colab": {
          "base_uri": "https://localhost:8080/"
        }
      },
      "outputs": [
        {
          "output_type": "stream",
          "name": "stdout",
          "text": [
            "6\n",
            "Factorial of 6 is 720\n"
          ]
        }
      ],
      "source": [
        "# Your code here\n",
        "def fact(n):\n",
        "  if n==0 or n==1:\n",
        "    return 1\n",
        "  else:\n",
        "    return n*fact(n-1)\n",
        "n=int(input())\n",
        "print(f\"Factorial of {n} is {fact(n)}\")\n"
      ]
    },
    {
      "cell_type": "markdown",
      "metadata": {
        "id": "iDm8nApqcpC9"
      },
      "source": [
        "## 2. Variables and Data Types\n",
        "\n",
        "**Question 6:** Create variables of different data types: integer, float, string, and boolean. Print their values and types."
      ]
    },
    {
      "cell_type": "code",
      "execution_count": 10,
      "metadata": {
        "id": "yy7bIhiOcpC-",
        "outputId": "72e9e3bc-3728-4316-e2f6-cfe13534ac28",
        "colab": {
          "base_uri": "https://localhost:8080/"
        }
      },
      "outputs": [
        {
          "output_type": "stream",
          "name": "stdout",
          "text": [
            "1 <class 'int'>\n",
            "0.6 <class 'float'>\n",
            "s <class 'str'>\n",
            "True <class 'bool'>\n"
          ]
        }
      ],
      "source": [
        "# Your code here\n",
        "n=1\n",
        "m=0.6\n",
        "x='s'\n",
        "y=True\n",
        "print(n,type(n))\n",
        "print(m,type(m))\n",
        "print(x,type(x))\n",
        "print(y,type(y))"
      ]
    },
    {
      "cell_type": "markdown",
      "metadata": {
        "id": "A9AG7VrFcpC-"
      },
      "source": [
        "**Question 7:** Write a Python program to swap the values of two variables."
      ]
    },
    {
      "cell_type": "code",
      "execution_count": 11,
      "metadata": {
        "id": "VZvxxNXAcpC-",
        "outputId": "141a754b-8c21-4202-d82d-0f0d11a2b7e3",
        "colab": {
          "base_uri": "https://localhost:8080/"
        }
      },
      "outputs": [
        {
          "output_type": "stream",
          "name": "stdout",
          "text": [
            "2 1\n"
          ]
        }
      ],
      "source": [
        "# Your code here\n",
        "v=1\n",
        "u=2\n",
        "v,u=u,v\n",
        "print(v,u)"
      ]
    },
    {
      "cell_type": "markdown",
      "metadata": {
        "id": "DHYhG1SpcpC-"
      },
      "source": [
        "**Question 8:** Write a Python program to convert Celsius to Fahrenheit."
      ]
    },
    {
      "cell_type": "code",
      "execution_count": 12,
      "metadata": {
        "id": "_ckK6lUpcpC-",
        "outputId": "f147d56c-3ad0-4117-a102-0049737324a6",
        "colab": {
          "base_uri": "https://localhost:8080/"
        }
      },
      "outputs": [
        {
          "output_type": "stream",
          "name": "stdout",
          "text": [
            "Enter Celsius: 32.9\n",
            "32.9°C is 91.22°F\n"
          ]
        }
      ],
      "source": [
        "# Your code here\n",
        "c = float(input(\"Enter Celsius: \"))\n",
        "f = (c * 9/5) + 32\n",
        "print(f\"{c}°C is {f}°F\")"
      ]
    },
    {
      "cell_type": "markdown",
      "metadata": {
        "id": "wB-C436XcpC-"
      },
      "source": [
        "**Question 9:** Write a Python program to concatenate two strings."
      ]
    },
    {
      "cell_type": "code",
      "execution_count": 13,
      "metadata": {
        "id": "KLXXLirXcpC_",
        "outputId": "5ce0543a-74c8-4629-8fd0-01018c5a6f4d",
        "colab": {
          "base_uri": "https://localhost:8080/"
        }
      },
      "outputs": [
        {
          "output_type": "stream",
          "name": "stdout",
          "text": [
            "concatenate of given strings is: sa\n"
          ]
        }
      ],
      "source": [
        "# Your code here\n",
        "s='s'\n",
        "a='a'\n",
        "c=s+a\n",
        "print(\"concatenate of given strings is:\",c)"
      ]
    },
    {
      "cell_type": "markdown",
      "metadata": {
        "id": "DiEhmh6rcpC_"
      },
      "source": [
        "**Question 10:** Write a Python program to check if a variable is of a specific data type."
      ]
    },
    {
      "cell_type": "code",
      "execution_count": 14,
      "metadata": {
        "id": "nbYWAhCncpC_",
        "outputId": "6713ea4b-7c43-415f-f8c1-b897f78cf905",
        "colab": {
          "base_uri": "https://localhost:8080/"
        }
      },
      "outputs": [
        {
          "output_type": "stream",
          "name": "stdout",
          "text": [
            "x is a string\n"
          ]
        }
      ],
      "source": [
        "# Your code here\n",
        "x=\"hi\"\n",
        "if isinstance(x, str):\n",
        "    print(\"x is a string\")\n",
        "else:\n",
        "    print(\"x is not a string\")"
      ]
    },
    {
      "cell_type": "markdown",
      "metadata": {
        "id": "m6hjhYg1cpC_"
      },
      "source": [
        "## 3. Basic Operators (Arithmetic, Comparison, Logical)\n",
        "\n",
        "**Question 11:** Write a Python program to perform arithmetic operations: addition, subtraction, multiplication, and division."
      ]
    },
    {
      "cell_type": "code",
      "execution_count": 15,
      "metadata": {
        "id": "hMKHspu8cpC_",
        "outputId": "7f96fca4-81e0-431a-a9ce-f20bc4bcdd93",
        "colab": {
          "base_uri": "https://localhost:8080/"
        }
      },
      "outputs": [
        {
          "output_type": "stream",
          "name": "stdout",
          "text": [
            "Addition of numbers: 3\n",
            "subtraction of numbers: -1\n",
            "multiplication of numbers: 2\n",
            "division of numbers: 0.5\n"
          ]
        }
      ],
      "source": [
        "# Your code here\n",
        "a=1\n",
        "b=2\n",
        "print(\"Addition of numbers:\",a+b)\n",
        "print(\"subtraction of numbers:\",a-b)\n",
        "print(\"multiplication of numbers:\",a*b)\n",
        "print(\"division of numbers:\",a/b)"
      ]
    },
    {
      "cell_type": "markdown",
      "metadata": {
        "id": "YqqEDTcIcpC_"
      },
      "source": [
        "**Question 12:** Write a Python program to demonstrate comparison operators: equal to, not equal to, greater than, less than."
      ]
    },
    {
      "cell_type": "code",
      "execution_count": 16,
      "metadata": {
        "id": "UtpBLevFcpDA",
        "outputId": "61c2ea50-c21d-4c05-f06d-b4c6d5c3b96f",
        "colab": {
          "base_uri": "https://localhost:8080/"
        }
      },
      "outputs": [
        {
          "output_type": "stream",
          "name": "stdout",
          "text": [
            "False True True False\n"
          ]
        }
      ],
      "source": [
        "# Your code here\n",
        "a=2\n",
        "b=1\n",
        "print(a == b, a != b, a > b, a < b)"
      ]
    },
    {
      "cell_type": "markdown",
      "metadata": {
        "id": "TbRlSyHLcpDA"
      },
      "source": [
        "**Question 13:** Write a Python program to demonstrate logical operators: and, or, not."
      ]
    },
    {
      "cell_type": "code",
      "execution_count": 17,
      "metadata": {
        "id": "PeOejagccpDA",
        "outputId": "58ba287d-787a-417f-99e1-2c55d4f2ea17",
        "colab": {
          "base_uri": "https://localhost:8080/"
        }
      },
      "outputs": [
        {
          "output_type": "stream",
          "name": "stdout",
          "text": [
            "False True True\n"
          ]
        }
      ],
      "source": [
        "# Your code here\n",
        "a=False\n",
        "b=True\n",
        "print(a&b,a|b,not a)"
      ]
    },
    {
      "cell_type": "markdown",
      "metadata": {
        "id": "cceJV2mHcpDA"
      },
      "source": [
        "**Question 14:** Write a Python program to calculate the square of a number."
      ]
    },
    {
      "cell_type": "code",
      "execution_count": 18,
      "metadata": {
        "id": "bA4vX7q2cpDA",
        "outputId": "0d554a88-6fbf-4de1-ca96-b2ac6e31dbb0",
        "colab": {
          "base_uri": "https://localhost:8080/"
        }
      },
      "outputs": [
        {
          "output_type": "stream",
          "name": "stdout",
          "text": [
            "4\n",
            "square of given number is: 16\n"
          ]
        }
      ],
      "source": [
        "# Your code here\n",
        "a=int(input())\n",
        "print(\"square of given number is:\",a**2)"
      ]
    },
    {
      "cell_type": "markdown",
      "metadata": {
        "id": "W7uMT_ZTcpDA"
      },
      "source": [
        "**Question 15:** Write a Python program to check if a number is even or odd."
      ]
    },
    {
      "cell_type": "code",
      "execution_count": 19,
      "metadata": {
        "id": "LsVTpwhNcpDA",
        "outputId": "c36b6e26-446a-4496-cb26-939518a76d16",
        "colab": {
          "base_uri": "https://localhost:8080/"
        }
      },
      "outputs": [
        {
          "output_type": "stream",
          "name": "stdout",
          "text": [
            "given number is odd\n"
          ]
        }
      ],
      "source": [
        "# Your code here\n",
        "n=5\n",
        "if n%2==0:\n",
        "  print(\"given number is even\")\n",
        "else:\n",
        "  print(\"given number is odd\")"
      ]
    },
    {
      "cell_type": "markdown",
      "metadata": {
        "id": "9Qtbk-shcpDA"
      },
      "source": [
        "**Question 16:** Write a Python program to find the sum of the first n natural numbers."
      ]
    },
    {
      "cell_type": "code",
      "execution_count": 20,
      "metadata": {
        "id": "MBElSPF3cpDA",
        "outputId": "6b9b8a33-6403-4cf6-aff2-a7a9793f3bb4",
        "colab": {
          "base_uri": "https://localhost:8080/"
        }
      },
      "outputs": [
        {
          "output_type": "stream",
          "name": "stdout",
          "text": [
            "7\n",
            "sum of the first 7 natural numbers number is 28 \n"
          ]
        }
      ],
      "source": [
        "# Your code here\n",
        "n=int(input())\n",
        "x=n*(n+1)//2\n",
        "print(f\"sum of the first {n} natural numbers number is {x} \")"
      ]
    },
    {
      "cell_type": "markdown",
      "metadata": {
        "id": "7pvBzs-LcpDB"
      },
      "source": [
        "**Question 17:** Write a Python program to check if a year is a leap year."
      ]
    },
    {
      "cell_type": "code",
      "execution_count": 21,
      "metadata": {
        "id": "xuGZw8DNcpDB",
        "outputId": "3edaf6fa-369d-471a-9863-b2eaae3e5ca1",
        "colab": {
          "base_uri": "https://localhost:8080/"
        }
      },
      "outputs": [
        {
          "output_type": "stream",
          "name": "stdout",
          "text": [
            "Enter year: 2024\n",
            "Leap year\n"
          ]
        }
      ],
      "source": [
        "# Your code here\n",
        "y = int(input(\"Enter year: \"))\n",
        "if (y % 4 == 0 and y % 100 != 0) or (y % 400 == 0):\n",
        "    print(\"Leap year\")\n",
        "else:\n",
        "    print(\"Not a leap year\")\n"
      ]
    },
    {
      "cell_type": "markdown",
      "metadata": {
        "id": "ktAjaIz5cpDB"
      },
      "source": [
        "**Question 18:** Write a Python program to reverse a string."
      ]
    },
    {
      "cell_type": "code",
      "execution_count": 22,
      "metadata": {
        "id": "Z5JJgnU3cpDB",
        "outputId": "382050e1-1b74-4748-cb08-efea57922d25",
        "colab": {
          "base_uri": "https://localhost:8080/"
        }
      },
      "outputs": [
        {
          "output_type": "stream",
          "name": "stdout",
          "text": [
            "ts\n"
          ]
        }
      ],
      "source": [
        "# Your code here\n",
        "s='st'\n",
        "print(s[::-1])"
      ]
    },
    {
      "cell_type": "markdown",
      "metadata": {
        "id": "zDP41s-HcpDB"
      },
      "source": [
        "**Question 19:** Write a Python program to check if a string is a palindrome."
      ]
    },
    {
      "cell_type": "code",
      "execution_count": 23,
      "metadata": {
        "id": "kUmnFzW0cpDB",
        "outputId": "958b2bdc-3614-440f-98ae-7b4fe4852470",
        "colab": {
          "base_uri": "https://localhost:8080/"
        }
      },
      "outputs": [
        {
          "output_type": "stream",
          "name": "stdout",
          "text": [
            "palindrome\n"
          ]
        }
      ],
      "source": [
        "# Your code here\n",
        "s='ss'\n",
        "if s==s[::-1]:\n",
        "  print(\"palindrome\")\n",
        "else:\n",
        "  print(\"not\")"
      ]
    },
    {
      "cell_type": "markdown",
      "metadata": {
        "id": "txywRbBBcpDN"
      },
      "source": [
        "**Question 20:** Write a Python program to sort a list of numbers in ascending order."
      ]
    },
    {
      "cell_type": "code",
      "execution_count": 24,
      "metadata": {
        "id": "NcBhsHV-cpDN",
        "outputId": "babd9f00-2c33-4a02-bdca-025936b5d611",
        "colab": {
          "base_uri": "https://localhost:8080/"
        }
      },
      "outputs": [
        {
          "output_type": "stream",
          "name": "stdout",
          "text": [
            "Sorted list: [1, 2, 5, 7, 9]\n"
          ]
        }
      ],
      "source": [
        "# Your code here\n",
        "l = [5, 2, 9, 1, 7]\n",
        "l.sort()\n",
        "# for desc l.sort(reverse=True)\n",
        "print(\"Sorted list:\", l)\n"
      ]
    }
  ],
  "metadata": {
    "kernelspec": {
      "display_name": "Python 3",
      "language": "python",
      "name": "python3"
    },
    "language_info": {
      "codemirror_mode": {
        "name": "ipython",
        "version": 3
      },
      "file_extension": ".py",
      "mimetype": "text/x-python",
      "name": "python",
      "nbconvert_exporter": "python",
      "pygments_lexer": "ipython3",
      "version": "3.8.5"
    },
    "colab": {
      "provenance": []
    }
  },
  "nbformat": 4,
  "nbformat_minor": 0
}