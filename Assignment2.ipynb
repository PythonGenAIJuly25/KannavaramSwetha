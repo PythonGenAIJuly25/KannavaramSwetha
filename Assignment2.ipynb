{
  "nbformat": 4,
  "nbformat_minor": 0,
  "metadata": {
    "colab": {
      "provenance": []
    },
    "kernelspec": {
      "name": "python3",
      "display_name": "Python 3"
    },
    "language_info": {
      "name": "python"
    }
  },
  "cells": [
    {
      "cell_type": "markdown",
      "metadata": {
        "id": "_JZGX3P0X4Xp"
      },
      "source": [
        "# Module 2: Control Flow Assignments\n",
        "## Lesson 2.1: Conditional Statements\n",
        "### Assignment 1: Simple if Statement\n",
        "\n",
        "Write a program that asks the user to input a number and prints whether the number is positive.\n",
        "\n"
      ]
    },
    {
      "cell_type": "code",
      "execution_count": null,
      "metadata": {
        "colab": {
          "base_uri": "https://localhost:8080/"
        },
        "id": "BVQYtevPYOd-",
        "outputId": "b9897931-b1cd-40a9-a105-bfac4146449c"
      },
      "outputs": [
        {
          "output_type": "stream",
          "name": "stdout",
          "text": [
            "5\n",
            "+ve\n"
          ]
        }
      ],
      "source": [
        "a=int(input())\n",
        "if(a>0):\n",
        "  print(\"+ve\")"
      ]
    },
    {
      "cell_type": "markdown",
      "source": [
        "Assignment 2: if-else Statement\n",
        "Write a program that asks the user to input a number and prints whether the number is positive or negative."
      ],
      "metadata": {
        "id": "aWNcT4FjJEZQ"
      }
    },
    {
      "cell_type": "code",
      "source": [
        "a=int(input())\n",
        "if(a>0):\n",
        "  print(\"+ve\")\n",
        "else:\n",
        "  print(\"-ve\")"
      ],
      "metadata": {
        "colab": {
          "base_uri": "https://localhost:8080/"
        },
        "id": "MkL5IJp0YW4_",
        "outputId": "bd1bf646-b8b7-4920-f681-c97a25e98e40"
      },
      "execution_count": null,
      "outputs": [
        {
          "output_type": "stream",
          "name": "stdout",
          "text": [
            "-1\n",
            "-ve\n"
          ]
        }
      ]
    },
    {
      "cell_type": "markdown",
      "source": [
        "Assignment 3: if-elif-else Statement\n",
        "Write a program that asks the user to input a number and prints whether the number is positive, negative, or zero."
      ],
      "metadata": {
        "id": "J6n3Bmr3JE7k"
      }
    },
    {
      "cell_type": "code",
      "source": [
        "a=int(input())\n",
        "if(a>0):\n",
        "  print(\"+ve\")\n",
        "elif(a==0):\n",
        "  print(\"Zero\")\n",
        "else:\n",
        "  print(\"-ve\")"
      ],
      "metadata": {
        "colab": {
          "base_uri": "https://localhost:8080/"
        },
        "id": "KuMLGpNhYjF9",
        "outputId": "9c719a75-1825-4323-99cb-e21012b02371"
      },
      "execution_count": null,
      "outputs": [
        {
          "output_type": "stream",
          "name": "stdout",
          "text": [
            "0\n",
            "Zero\n"
          ]
        }
      ]
    },
    {
      "cell_type": "markdown",
      "source": [
        "Assignment 4: Nested if Statement\n",
        "Write a program that asks the user to input a number and prints whether the number is positive and even, positive and odd, or negative."
      ],
      "metadata": {
        "id": "A0GJXLTkJFk1"
      }
    },
    {
      "cell_type": "code",
      "source": [
        "n=5\n",
        "if(n>0):\n",
        "  if(n%2==0):\n",
        "    print(\"positive Even\")\n",
        "  else:\n",
        "    print(\"positive Odd\")\n",
        "else:\n",
        "  print(\"Negative\")"
      ],
      "metadata": {
        "colab": {
          "base_uri": "https://localhost:8080/"
        },
        "id": "LibrYA6zYr8T",
        "outputId": "153764f0-bba2-4a9f-eb7f-0f31582f2554"
      },
      "execution_count": null,
      "outputs": [
        {
          "output_type": "stream",
          "name": "stdout",
          "text": [
            "positive Odd\n"
          ]
        }
      ]
    },
    {
      "cell_type": "markdown",
      "source": [
        "Assignment 5: for Loop\n",
        "\n",
        "Write a program that prints all the numbers from 1 to 10 using a for loop"
      ],
      "metadata": {
        "id": "mrmcQ7r1JGHe"
      }
    },
    {
      "cell_type": "code",
      "source": [
        "for i in range(1,11):\n",
        "  print(i)"
      ],
      "metadata": {
        "colab": {
          "base_uri": "https://localhost:8080/"
        },
        "id": "f9bMpzbEZCHx",
        "outputId": "b81a4326-bc83-45fe-b4df-dcda671df1e7"
      },
      "execution_count": null,
      "outputs": [
        {
          "output_type": "stream",
          "name": "stdout",
          "text": [
            "1\n",
            "2\n",
            "3\n",
            "4\n",
            "5\n",
            "6\n",
            "7\n",
            "8\n",
            "9\n",
            "10\n"
          ]
        }
      ]
    },
    {
      "cell_type": "markdown",
      "source": [
        "Assignment 6: while Loop\n",
        "Write a program that prints all the numbers from 1 to 10 using a while loop."
      ],
      "metadata": {
        "id": "NiHrocsSJGt8"
      }
    },
    {
      "cell_type": "code",
      "source": [
        "n=1\n",
        "while(n<=10):\n",
        "  print(n)\n",
        "  n+=1"
      ],
      "metadata": {
        "colab": {
          "base_uri": "https://localhost:8080/"
        },
        "id": "4VIH4oB7ZIYW",
        "outputId": "a00123f3-4f20-4e20-fe7a-f453e21a8097"
      },
      "execution_count": null,
      "outputs": [
        {
          "output_type": "stream",
          "name": "stdout",
          "text": [
            "1\n",
            "2\n",
            "3\n",
            "4\n",
            "5\n",
            "6\n",
            "7\n",
            "8\n",
            "9\n",
            "10\n"
          ]
        }
      ]
    },
    {
      "cell_type": "markdown",
      "source": [
        "Assignment 7: Nested Loops\n",
        "Write a program that prints a 5x5 grid of asterisks (*) using nested loops."
      ],
      "metadata": {
        "id": "BDX_oeEFJHPb"
      }
    },
    {
      "cell_type": "code",
      "source": [
        "for i in range(1,6):\n",
        "  for j in range(1,6):\n",
        "    print(\"*\",end=\" \")\n",
        "  print(\" \")"
      ],
      "metadata": {
        "colab": {
          "base_uri": "https://localhost:8080/"
        },
        "id": "d9Nr9zwtZdG_",
        "outputId": "7d943aae-d532-4b58-ea46-eba10753e257"
      },
      "execution_count": null,
      "outputs": [
        {
          "output_type": "stream",
          "name": "stdout",
          "text": [
            "* * * * *  \n",
            "* * * * *  \n",
            "* * * * *  \n",
            "* * * * *  \n",
            "* * * * *  \n"
          ]
        }
      ]
    },
    {
      "cell_type": "markdown",
      "source": [
        "Assignment 8: break Statement\n",
        "Write a program that asks the user to input numbers until they input 0. The program should print the sum of all the input numbers."
      ],
      "metadata": {
        "id": "2Adn65U8JIBN"
      }
    },
    {
      "cell_type": "code",
      "source": [
        "s=0\n",
        "while True:\n",
        "  n=int(input())\n",
        "  if(n==0):\n",
        "    break\n",
        "  s+=n\n",
        "print(s)"
      ],
      "metadata": {
        "colab": {
          "base_uri": "https://localhost:8080/"
        },
        "id": "QTG8vw9TZ4jb",
        "outputId": "f908e43f-221f-4b9f-cfc3-5cef2d6a475c"
      },
      "execution_count": 3,
      "outputs": [
        {
          "output_type": "stream",
          "name": "stdout",
          "text": [
            "2\n",
            "3\n",
            "0\n",
            "5\n"
          ]
        }
      ]
    },
    {
      "cell_type": "markdown",
      "source": [
        "Assignment 9: continue Statement\n",
        "Write a program that prints all the numbers from 1 to 10 except 5 using a for loop and continue statement."
      ],
      "metadata": {
        "id": "V3_g7RkJJIju"
      }
    },
    {
      "cell_type": "code",
      "source": [
        "for i in range(1,11):\n",
        "  if(i==5):\n",
        "    continue\n",
        "  print(i)"
      ],
      "metadata": {
        "colab": {
          "base_uri": "https://localhost:8080/"
        },
        "id": "U4u94iQtaRVy",
        "outputId": "442600f2-6b02-4998-86ee-2dd31e8d1d17"
      },
      "execution_count": 1,
      "outputs": [
        {
          "output_type": "stream",
          "name": "stdout",
          "text": [
            "1\n",
            "2\n",
            "3\n",
            "4\n",
            "6\n",
            "7\n",
            "8\n",
            "9\n",
            "10\n"
          ]
        }
      ]
    },
    {
      "cell_type": "markdown",
      "source": [
        "Assignment 10: pass Statement\n",
        "Write a program that defines an empty function using the pass statement."
      ],
      "metadata": {
        "id": "x24nJkbwJJGJ"
      }
    },
    {
      "cell_type": "code",
      "source": [
        "def my_function():\n",
        "    pass\n",
        "my_function()\n",
        "print(\"success\")\n"
      ],
      "metadata": {
        "colab": {
          "base_uri": "https://localhost:8080/"
        },
        "id": "LBv0H9mWa0yo",
        "outputId": "412199dd-4ddc-40e8-c2e1-603a2e7fba01"
      },
      "execution_count": null,
      "outputs": [
        {
          "output_type": "stream",
          "name": "stdout",
          "text": [
            "success\n"
          ]
        }
      ]
    },
    {
      "cell_type": "markdown",
      "source": [
        "Assignment 11: Combining Loops and Conditionals\n",
        "Write a program that asks the user to input a number and prints all the even numbers from 1 to that number using a for loop."
      ],
      "metadata": {
        "id": "m98HFNjhJJ1A"
      }
    },
    {
      "cell_type": "code",
      "source": [
        "n=int(input())\n",
        "for i in range(0,n+1):\n",
        "  if(i%2==0):\n",
        "    print(i)"
      ],
      "metadata": {
        "colab": {
          "base_uri": "https://localhost:8080/"
        },
        "id": "RkYkwtJVbC1S",
        "outputId": "fd841ffe-553b-4933-f662-b874d954e6a2"
      },
      "execution_count": null,
      "outputs": [
        {
          "output_type": "stream",
          "name": "stdout",
          "text": [
            "10\n",
            "0\n",
            "2\n",
            "4\n",
            "6\n",
            "8\n",
            "10\n"
          ]
        }
      ]
    },
    {
      "cell_type": "markdown",
      "source": [
        "Assignment 12: Factorial Calculation\n",
        "\n",
        "Write a program that calculates the factorial of a number input by the user using a while loop.\n"
      ],
      "metadata": {
        "id": "ToPu6MWPJKer"
      }
    },
    {
      "cell_type": "code",
      "source": [
        "n=int(input())\n",
        "s=1\n",
        "while(n>0):\n",
        "  s*=n\n",
        "  n-=1\n",
        "print(s)"
      ],
      "metadata": {
        "colab": {
          "base_uri": "https://localhost:8080/"
        },
        "id": "KOI7oTSpbC_P",
        "outputId": "dd229f43-9b94-4ecf-e869-cbf7ba25f193"
      },
      "execution_count": null,
      "outputs": [
        {
          "output_type": "stream",
          "name": "stdout",
          "text": [
            "5\n",
            "120\n"
          ]
        }
      ]
    },
    {
      "cell_type": "markdown",
      "source": [
        "Assignment 13: Sum of Digits\n",
        "Write a program that calculates the sum of the digits of a number input by the user using a while loop."
      ],
      "metadata": {
        "id": "uTRfZI9YJK8z"
      }
    },
    {
      "cell_type": "code",
      "source": [
        "n = int(input())\n",
        "s = 0\n",
        "while n > 0:\n",
        "    digit = n % 10\n",
        "    s += digit\n",
        "    n = n //10\n",
        "print(s)"
      ],
      "metadata": {
        "colab": {
          "base_uri": "https://localhost:8080/"
        },
        "id": "0YwmsrylbDCu",
        "outputId": "63d3d08a-8bea-4569-9986-57f4c2136f87"
      },
      "execution_count": null,
      "outputs": [
        {
          "output_type": "stream",
          "name": "stdout",
          "text": [
            "23\n",
            "5\n"
          ]
        }
      ]
    },
    {
      "cell_type": "markdown",
      "source": [
        "Assignment 14: Fibonacci Sequence\n",
        "\n",
        "Write a program that prints the first n Fibonacci numbers, where n is input by the user."
      ],
      "metadata": {
        "id": "5HJ5BmXEJLfO"
      }
    },
    {
      "cell_type": "code",
      "source": [
        "n=5\n",
        "a,b=0,1\n",
        "print(a,\"\",b,end=\" \")\n",
        "for i in range(2,n+1):\n",
        "  c=a+b\n",
        "  print(c,end=\" \")\n",
        "  a=b\n",
        "  b=c\n"
      ],
      "metadata": {
        "colab": {
          "base_uri": "https://localhost:8080/"
        },
        "id": "eRMHGtYacyMl",
        "outputId": "b6fcc116-ccc0-486b-fa0e-caaa9c08a424"
      },
      "execution_count": null,
      "outputs": [
        {
          "output_type": "stream",
          "name": "stdout",
          "text": [
            "0  1 1 2 3 5 "
          ]
        }
      ]
    },
    {
      "cell_type": "markdown",
      "source": [
        "Assignment 15: Prime Number Check\n",
        "Write a program that checks if a number input by the user is a prime number using a for loop."
      ],
      "metadata": {
        "id": "uHbsrbhDJL_W"
      }
    },
    {
      "cell_type": "code",
      "source": [
        "from random import triangular\n",
        "n=4\n",
        "a=0\n",
        "for i in range(2,n-1):\n",
        "  if(n%i==0):\n",
        "    a=0\n",
        "  else:\n",
        "    a=1\n",
        "if(a==1):\n",
        "  print(\"yes\")\n",
        "else:\n",
        "  print(\"NO\")"
      ],
      "metadata": {
        "colab": {
          "base_uri": "https://localhost:8080/"
        },
        "id": "Vmk1VjDlcyQz",
        "outputId": "3b3d8195-f5d3-4c35-859e-cca814c13c64"
      },
      "execution_count": null,
      "outputs": [
        {
          "output_type": "stream",
          "name": "stdout",
          "text": [
            "NO\n"
          ]
        }
      ]
    }
  ]
}