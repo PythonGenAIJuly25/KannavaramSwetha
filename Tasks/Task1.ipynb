{
  "nbformat": 4,
  "nbformat_minor": 0,
  "metadata": {
    "colab": {
      "provenance": []
    },
    "kernelspec": {
      "name": "python3",
      "display_name": "Python 3"
    },
    "language_info": {
      "name": "python"
    }
  },
  "cells": [
    {
      "cell_type": "markdown",
      "source": [
        "Task 1\n",
        "\n",
        "Build the simple Calculator"
      ],
      "metadata": {
        "id": "neICtmwsgNMb"
      }
    },
    {
      "cell_type": "code",
      "execution_count": 1,
      "metadata": {
        "colab": {
          "base_uri": "https://localhost:8080/"
        },
        "id": "4XN4ihfUgJtE",
        "outputId": "20e06148-672b-4b4e-9039-405ce6dbdaff"
      },
      "outputs": [
        {
          "output_type": "stream",
          "name": "stdout",
          "text": [
            "Enter the number1: 5\n",
            "Enter the number2: 4\n",
            "Choose an Operator (+, -, *, /, %): +\n",
            "Sum of 5 and 4 is: 9\n"
          ]
        }
      ],
      "source": [
        "\n",
        "num1 = int(input(\"Enter the number1: \"))\n",
        "num2 = int(input(\"Enter the number2: \"))\n",
        "\n",
        "operator = input(\"Choose an Operator (+, -, *, /, %): \")\n",
        "\n",
        "if operator == '+':\n",
        "    print(f'Sum of {num1} and {num2} is: {num1 + num2}')\n",
        "elif operator == '-':\n",
        "    print(f'Subtraction of {num1} and {num2} is: {num1 - num2}')\n",
        "elif operator == '*':\n",
        "    print(f'Product of {num1} and {num2} is: {num1 * num2}')\n",
        "elif operator == '/':\n",
        "    if num2 != 0:\n",
        "        print(f'Division of {num1} by {num2} is: {num1 / num2}')\n",
        "    else:\n",
        "        print(\"Error: Division by zero is not allowed.\")\n",
        "elif operator == '%':\n",
        "    if num2 != 0:\n",
        "        print(f'Modulus of {num1} and {num2} is: {num1 % num2}')\n",
        "    else:\n",
        "        print(\"Error: Division by zero is not allowed.\")\n",
        "else:\n",
        "    print(\"Invalid operator\")\n",
        ""
      ]
    }
  ]
}