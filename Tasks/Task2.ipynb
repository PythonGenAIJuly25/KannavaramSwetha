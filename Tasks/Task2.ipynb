{
  "nbformat": 4,
  "nbformat_minor": 0,
  "metadata": {
    "colab": {
      "provenance": []
    },
    "kernelspec": {
      "name": "python3",
      "display_name": "Python 3"
    },
    "language_info": {
      "name": "python"
    }
  },
  "cells": [
    {
      "cell_type": "markdown",
      "source": [
        "Tasks\n",
        "\n",
        "Write the python code to check if the given year is leap year or not"
      ],
      "metadata": {
        "id": "QvB4GwIVg5gZ"
      }
    },
    {
      "cell_type": "code",
      "execution_count": 1,
      "metadata": {
        "colab": {
          "base_uri": "https://localhost:8080/"
        },
        "id": "WbSBoR9qgrz0",
        "outputId": "774ff255-a673-4817-e3fb-3f848d0639d7"
      },
      "outputs": [
        {
          "output_type": "stream",
          "name": "stdout",
          "text": [
            "Enter the year: 2004\n",
            "2004 is leap year\n"
          ]
        }
      ],
      "source": [
        "year = int(input(\"Enter the year: \"))\n",
        "\n",
        "if (year %4 == 0 and year % 100 != 0) or (year % 400 == 0):\n",
        "  print(f'{year} is leap year')\n",
        "else:\n",
        "  print(f'{year} is not a leap year')\n",
        ""
      ]
    },
    {
      "cell_type": "markdown",
      "source": [
        "Remove the duplicates from the list and return the duplicates"
      ],
      "metadata": {
        "id": "FGcY_nHlh3wW"
      }
    },
    {
      "cell_type": "code",
      "source": [
        "list1 = [1, 2, 3, 4, 2, 3, 1]\n",
        "\n",
        "unique = []\n",
        "duplicates = []\n",
        "\n",
        "for item in list1:\n",
        "  if item not in unique:\n",
        "    unique.append(item)\n",
        "  elif item not in duplicates:\n",
        "    duplicates.append(item)\n",
        "\n",
        "print(f'Unique items: {unique}')\n",
        "print(f'Duplicates: {duplicates}')"
      ],
      "metadata": {
        "colab": {
          "base_uri": "https://localhost:8080/"
        },
        "id": "5jyT91MXh3SE",
        "outputId": "9058c50b-9f93-4920-d3c6-1d3ef809c15e"
      },
      "execution_count": 2,
      "outputs": [
        {
          "output_type": "stream",
          "name": "stdout",
          "text": [
            "Unique items: [1, 2, 3, 4]\n",
            "Duplicates: [2, 3, 1]\n"
          ]
        }
      ]
    }
  ]
}