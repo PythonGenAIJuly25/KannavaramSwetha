{
  "nbformat": 4,
  "nbformat_minor": 0,
  "metadata": {
    "colab": {
      "provenance": []
    },
    "kernelspec": {
      "name": "python3",
      "display_name": "Python 3"
    },
    "language_info": {
      "name": "python"
    }
  },
  "cells": [
    {
      "cell_type": "code",
      "execution_count": null,
      "metadata": {
        "id": "cIXiSgI3iObZ"
      },
      "outputs": [],
      "source": [
        "TASK:\n",
        "Factorial of a number using reduce function in python"
      ]
    },
    {
      "cell_type": "code",
      "source": [
        "from functools import reduce\n",
        "\n",
        "def fact(num):\n",
        "  if num == 0 or num == 1:\n",
        "    return 1\n",
        "  else:\n",
        "    return reduce(lambda x,y: x*y, range(1,num+1))\n",
        "\n",
        "fact(5)\n",
        ""
      ],
      "metadata": {
        "colab": {
          "base_uri": "https://localhost:8080/"
        },
        "id": "yDplRHjliTs4",
        "outputId": "cf9aa2bd-4e77-4c71-af6e-6266d369b89a"
      },
      "execution_count": 2,
      "outputs": [
        {
          "output_type": "execute_result",
          "data": {
            "text/plain": [
              "120"
            ]
          },
          "metadata": {},
          "execution_count": 2
        }
      ]
    },
    {
      "cell_type": "markdown",
      "source": [
        "randomly arrange a bunch of students into groups of 5"
      ],
      "metadata": {
        "id": "0Iw7dGOsid3J"
      }
    },
    {
      "cell_type": "code",
      "source": [
        "import random\n",
        "\n",
        "students = [f\"Student{i}\" for i in range(1, 41)]\n",
        "\n",
        "random.shuffle(students)\n",
        "\n",
        "group_size = 8\n",
        "num_groups = 5\n",
        "\n",
        "for i in range(num_groups):\n",
        "    group = students[i * group_size:(i + 1) * group_size]\n",
        "    print(f\"Group {i+1}: {group}\")"
      ],
      "metadata": {
        "id": "J9MWo67yigcq",
        "outputId": "ecc25b8e-b174-4528-ecaf-ac130205ee91",
        "colab": {
          "base_uri": "https://localhost:8080/"
        }
      },
      "execution_count": 3,
      "outputs": [
        {
          "output_type": "stream",
          "name": "stdout",
          "text": [
            "Group 1: ['Student24', 'Student2', 'Student13', 'Student27', 'Student19', 'Student34', 'Student7', 'Student23']\n",
            "Group 2: ['Student3', 'Student17', 'Student40', 'Student9', 'Student22', 'Student26', 'Student35', 'Student14']\n",
            "Group 3: ['Student31', 'Student38', 'Student18', 'Student8', 'Student28', 'Student29', 'Student21', 'Student25']\n",
            "Group 4: ['Student37', 'Student10', 'Student6', 'Student39', 'Student32', 'Student36', 'Student12', 'Student4']\n",
            "Group 5: ['Student30', 'Student11', 'Student5', 'Student15', 'Student33', 'Student20', 'Student1', 'Student16']\n"
          ]
        }
      ]
    }
  ]
}